{
 "cells": [
  {
   "cell_type": "markdown",
   "metadata": {},
   "source": [
    "# LeNet 5"
   ]
  },
  {
   "cell_type": "code",
   "execution_count": 14,
   "metadata": {},
   "outputs": [],
   "source": [
    "import lightning as L\n",
    "import matplotlib.pyplot as plt\n",
    "import numpy as np\n",
    "import torch\n",
    "import torch.nn as nn\n",
    "import torch.nn.functional as F\n",
    "import torch.optim as optim\n",
    "import torchvision\n",
    "from torchvision import transforms\n",
    "from torchvision.datasets import MNIST"
   ]
  },
  {
   "cell_type": "code",
   "execution_count": 15,
   "metadata": {},
   "outputs": [],
   "source": [
    "%matplotlib widget"
   ]
  },
  {
   "cell_type": "code",
   "execution_count": 16,
   "metadata": {},
   "outputs": [
    {
     "name": "stdout",
     "output_type": "stream",
     "text": [
      "Using GPU\n"
     ]
    }
   ],
   "source": [
    "device = torch.device(\"cuda\" if torch.cuda.is_available() else \"cpu\")\n",
    "if device == torch.device(\"cuda\"):\n",
    "    print(\"Using GPU\")\n",
    "else:\n",
    "    print(\"Using CPU\")"
   ]
  },
  {
   "cell_type": "code",
   "execution_count": 17,
   "metadata": {},
   "outputs": [],
   "source": [
    "test_transform = transforms.Compose(\n",
    "    [\n",
    "        transforms.Resize((32, 32)),\n",
    "        transforms.ToTensor(),\n",
    "        transforms.Normalize([0.1307,], [0.3081,])\n",
    "    ]\n",
    ")\n",
    "\n",
    "train_transform = transforms.Compose(\n",
    "    [\n",
    "        transforms.RandomHorizontalFlip(),\n",
    "        transforms.Resize((32, 32)),\n",
    "        transforms.RandomResizedCrop((32, 32), scale=(0.8, 1.0), ratio=(0.9, 1.1)),\n",
    "        transforms.ToTensor(),\n",
    "        transforms.Normalize([0.1307,], [0.3081,])\n",
    "    ]\n",
    ")\n",
    "\n",
    "train_set = MNIST(root=\"data\", train=True, download=True, transform=train_transform)\n",
    "test_set = MNIST(root=\"data\", train=False, download=True, transform=test_transform)\n",
    "\n",
    "train_loader = torch.utils.data.DataLoader(train_set, batch_size=128, shuffle=True, drop_last=True)\n",
    "test_loader = torch.utils.data.DataLoader(test_set, batch_size=128)"
   ]
  },
  {
   "cell_type": "code",
   "execution_count": 18,
   "metadata": {},
   "outputs": [
    {
     "data": {
      "text/plain": [
       "<matplotlib.image.AxesImage at 0x7f938a1624b0>"
      ]
     },
     "execution_count": 18,
     "metadata": {},
     "output_type": "execute_result"
    },
    {
     "data": {
      "application/vnd.jupyter.widget-view+json": {
       "model_id": "a6fe06387bc54f01bd80027a6d04e7d2",
       "version_major": 2,
       "version_minor": 0
      },
      "image/png": "[encoded data removed]",
      "text/html": [
       "\n",
       "            <div style=\"display: inline-block;\">\n",
       "                <div class=\"jupyter-widgets widget-label\" style=\"text-align: center;\">\n",
       "                    Figure\n",
       "                </div>\n",
       "                <img src='data:image/png;base64,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' width=800.0/>\n",
       "            </div>\n",
       "        "
      ],
      "text/plain": [
       "Canvas(toolbar=Toolbar(toolitems=[('Home', 'Reset original view', 'home', 'home'), ('Back', 'Back to previous …"
      ]
     },
     "metadata": {},
     "output_type": "display_data"
    }
   ],
   "source": [
    "plt.gray()\n",
    "plt.figure(figsize=(8, 4))\n",
    "plt.imshow(train_set[0][0][0])"
   ]
  },
  {
   "cell_type": "code",
   "execution_count": 25,
   "metadata": {},
   "outputs": [],
   "source": [
    "class LeNet5Model(nn.Module):\n",
    "    def conv_block(\n",
    "        self,\n",
    "        out_channels,\n",
    "        kernel_size=3,\n",
    "        stride=1,\n",
    "        padding=1,\n",
    "        activation=nn.ReLU(),\n",
    "        pooling=nn.AvgPool2d(2, 2),\n",
    "    ):\n",
    "        layers = nn.Sequential(\n",
    "            nn.LazyConv2d(out_channels, kernel_size, stride, padding),\n",
    "        )\n",
    "\n",
    "        if activation is not None:\n",
    "            layers.add_module(\"activation\", activation)\n",
    "        if pooling is not None:\n",
    "            layers.add_module(\"pooling\", pooling)\n",
    "        return layers\n",
    "\n",
    "    def linear_block(self, out_features, activation=nn.ReLU()):\n",
    "        layers = nn.Sequential(\n",
    "            nn.LazyLinear(out_features),\n",
    "        )\n",
    "\n",
    "        if activation is not None:\n",
    "            layers.add_module(\"activation\", activation)\n",
    "        return layers\n",
    "\n",
    "    def __init__(self):\n",
    "        super(LeNet5Model, self).__init__()\n",
    "\n",
    "        self.layers = nn.Sequential(\n",
    "            self.conv_block(6),\n",
    "            self.conv_block(16),\n",
    "            nn.Flatten(),\n",
    "            self.linear_block(120),\n",
    "            self.linear_block(84),\n",
    "            self.linear_block(10, activation=None),\n",
    "        )\n",
    "\n",
    "    def forward(self, x: torch.Tensor) -> torch.Tensor:\n",
    "        return self.layers(x)"
   ]
  },
  {
   "cell_type": "code",
   "execution_count": 28,
   "metadata": {},
   "outputs": [],
   "source": [
    "class LeNet5(L.LightningModule):\n",
    "    def __init__(self):\n",
    "        super().__init__()\n",
    "        self.model = LeNet5Model()\n",
    "    \n",
    "    def configure_optimizers(self):\n",
    "        optimizer = optim.Adam(self.parameters(), lr=1e-3)\n",
    "        return optimizer\n",
    "    \n",
    "    def _calculate_loss(self, batch, mode=\"train\"):\n",
    "        x, y = batch\n",
    "        preds = self.model(x)\n",
    "        loss = F.cross_entropy(preds, y)\n",
    "        acc = (preds.argmax(dim=-1) == y).float().mean()\n",
    "        \n",
    "        self.log(f\"{mode}_loss\", loss)\n",
    "        self.log(f\"{mode}_acc\", acc)\n",
    "        return loss\n",
    "    \n",
    "    def training_step(self, batch, batch_idx):\n",
    "        return self._calculate_loss(batch)\n",
    "\n",
    "    def test_step(self, batch, batch_idx):\n",
    "        return self._calculate_loss(batch, mode=\"test\")\n",
    "    "
   ]
  },
  {
   "cell_type": "code",
   "execution_count": 30,
   "metadata": {},
   "outputs": [
    {
     "name": "stderr",
     "output_type": "stream",
     "text": [
      "GPU available: True (cuda), used: True\n",
      "TPU available: False, using: 0 TPU cores\n",
      "HPU available: False, using: 0 HPUs\n",
      "LOCAL_RANK: 0 - CUDA_VISIBLE_DEVICES: [0]\n",
      "\n",
      "  | Name  | Type        | Params | Mode \n",
      "----------------------------------------------\n",
      "0 | model | LeNet5Model | 0      | train\n",
      "----------------------------------------------\n",
      "0         Trainable params\n",
      "0         Non-trainable params\n",
      "0         Total params\n",
      "0.000     Total estimated model params size (MB)\n"
     ]
    },
    {
     "data": {
      "application/vnd.jupyter.widget-view+json": {
       "model_id": "2eaa8f19005d4a299486524be7cbc02a",
       "version_major": 2,
       "version_minor": 0
      },
      "text/plain": [
       "Training: |          | 0/? [00:00<?, ?it/s]"
      ]
     },
     "metadata": {},
     "output_type": "display_data"
    },
    {
     "name": "stderr",
     "output_type": "stream",
     "text": [
      "`Trainer.fit` stopped: `max_epochs=10` reached.\n"
     ]
    }
   ],
   "source": [
    "model = LeNet5()\n",
    "trainer = L.Trainer(max_epochs=10)\n",
    "trainer.fit(model=model, train_dataloaders=train_loader)"
   ]
  }
 ],
 "metadata": {
  "kernelspec": {
   "display_name": "Python 3",
   "language": "python",
   "name": "python3"
  },
  "language_info": {
   "codemirror_mode": {
    "name": "ipython",
    "version": 3
   },
   "file_extension": ".py",
   "mimetype": "text/x-python",
   "name": "python",
   "nbconvert_exporter": "python",
   "pygments_lexer": "ipython3",
   "version": "3.12.3"
  }
 },
 "nbformat": 4,
 "nbformat_minor": 2
}
