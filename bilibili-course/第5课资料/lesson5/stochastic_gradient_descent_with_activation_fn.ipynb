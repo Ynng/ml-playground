{
 "cells": [
  {
   "cell_type": "code",
   "execution_count": null,
   "metadata": {},
   "outputs": [],
   "source": [
    "import dataset\n",
    "from matplotlib import pyplot as plt\n",
    "import numpy as np\n",
    "from IPython import display\n",
    "\n",
    "m = 100\n",
    "xs, ys = dataset.get_beans(m)\n",
    "plt.title(\"Size-Toxicity Function\", fontsize=12)\n",
    "plt.xlabel(\"Size\")\n",
    "plt.ylabel(\"Toxicity\")"
   ]
  },
  {
   "cell_type": "code",
   "execution_count": null,
   "metadata": {},
   "outputs": [],
   "source": [
    "# Stochastic Gradient Descent\n",
    "# AKA batch size of 1\n",
    "\n",
    "# Initial Values\n",
    "w = 0.1\n",
    "b = 0.1\n",
    "# Example calculation\n",
    "z = w * xs + b\n",
    "a = 1/(1 + np.exp(-z))\n",
    "\n",
    "plt.scatter(xs, ys)\n",
    "plt.plot(xs, a)\n",
    "plt.show()\n",
    "\n",
    "for _ in range(5000):\n",
    "    for i in range(m):\n",
    "        x = xs[i]\n",
    "        y = ys[i]\n",
    "        \n",
    "        # Find partial derivative of w and b\n",
    "        z = w * x + b\n",
    "        a = 1/(1 + np.exp(-z))\n",
    "        e = (y - a)**2\n",
    "        \n",
    "        de_da = -2 * (y - a)\n",
    "        da_dz = a * (1 - a)\n",
    "        dz_dw = x\n",
    "        dz_db = 1\n",
    "        \n",
    "        # Chain Rule\n",
    "        de_dw = de_da * da_dz * dz_dw\n",
    "        de_db = de_da * da_dz * dz_db\n",
    "        \n",
    "        # Update w and b\n",
    "        alpha = 0.05\n",
    "        w = w - alpha * de_dw\n",
    "        b = b - alpha * de_db\n",
    "    \n",
    "    if _%100 == 0:\n",
    "        try:\n",
    "            plt.clf()\n",
    "            plt.scatter(xs, ys)\n",
    "            plt.xlim(0, 1)\n",
    "            plt.ylim(0, 1.2)\n",
    "            z = w * xs + b\n",
    "            a = 1/(1 + np.exp(-z))\n",
    "            plt.plot(xs, a)\n",
    "            display.display(plt.gcf())\n",
    "            display.clear_output(wait=True)\n",
    "            plt.pause(0.01)\n",
    "        except KeyboardInterrupt:\n",
    "            break\n",
    "\n",
    "plt.show()"
   ]
  }
 ],
 "metadata": {
  "kernelspec": {
   "display_name": "Python 3",
   "language": "python",
   "name": "python3"
  },
  "language_info": {
   "codemirror_mode": {
    "name": "ipython",
    "version": 3
   },
   "file_extension": ".py",
   "mimetype": "text/x-python",
   "name": "python",
   "nbconvert_exporter": "python",
   "pygments_lexer": "ipython3",
   "version": "3.10.3"
  }
 },
 "nbformat": 4,
 "nbformat_minor": 2
}
